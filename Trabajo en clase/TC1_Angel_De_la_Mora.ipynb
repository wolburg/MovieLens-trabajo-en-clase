{
 "cells": [
  {
   "cell_type": "raw",
   "source": [
    "Cuáles fueron los géneros mejor rankeados en promedio en el año 2005?\n",
    "Cuál es el top 5 de películas mejor rankeadas en promedio?\n",
    "Cuál es el género con más revies?\n",
    "Cuáles es el género por año con mejor rating entre el año 2000 y 2010?\n",
    "Cuál es el usuario con más críticas y cuál es su género favorito?"
   ],
   "metadata": {
    "collapsed": false
   },
   "id": "b737006ecd13eca7"
  },
  {
   "cell_type": "code",
   "outputs": [],
   "source": [
    "import pandas as pd\n",
    "\n",
    "movies = pd.read_csv(\"../data/movies.csv\")\n",
    "#print(movies)\n",
    "\n",
    "ratings = pd.read_csv(\"../data/ratings.csv\")\n"
   ],
   "metadata": {
    "collapsed": false,
    "ExecuteTime": {
     "end_time": "2024-01-31T18:38:09.817675400Z",
     "start_time": "2024-01-31T18:38:09.757227800Z"
    }
   },
   "id": "bad4719ed6dcd5c5",
   "execution_count": 10
  },
  {
   "cell_type": "code",
   "outputs": [
    {
     "name": "stdout",
     "output_type": "stream",
     "text": [
      "genres\n",
      "Comedy|Crime|Drama|Horror                5.0\n",
      "Adventure|Comedy|Fantasy|Musical         5.0\n",
      "Animation|Children|Mystery               5.0\n",
      "Animation|Drama|Sci-Fi|IMAX              5.0\n",
      "Adventure|Drama|Fantasy|Horror|Sci-Fi    5.0\n",
      "Name: rating, dtype: float64\n"
     ]
    }
   ],
   "source": [
    "# ¿Cuáles fueron los géneros mejor rankeados en promedio en el año 2005?\n",
    "merged_data = pd.merge(movies, ratings, on='movieId')\n",
    "merged_data['timestamp'] = pd.to_datetime(merged_data['timestamp'], unit='s')\n",
    "rating_2005 = merged_data[\"timestamp\"].dt.year == 2005\n",
    "average_rating = merged_data.groupby('genres')['rating'].mean()\n",
    "print(average_rating.sort_values(ascending=False).head())"
   ],
   "metadata": {
    "collapsed": false,
    "ExecuteTime": {
     "end_time": "2024-01-31T18:38:11.653851200Z",
     "start_time": "2024-01-31T18:38:11.599791300Z"
    }
   },
   "id": "4dbfe6e2d64f0418",
   "execution_count": 11
  },
  {
   "cell_type": "code",
   "outputs": [
    {
     "name": "stdout",
     "output_type": "stream",
     "text": [
      "title\n",
      "Gena the Crocodile (1969)              5.0\n",
      "True Stories (1986)                    5.0\n",
      "Cosmic Scrat-tastrophe (2015)          5.0\n",
      "Love and Pigeons (1985)                5.0\n",
      "Red Sorghum (Hong gao liang) (1987)    5.0\n",
      "Name: rating, dtype: float64\n"
     ]
    }
   ],
   "source": [
    "# Cuál es el top 5 de películas mejor rankeadas en promedio?\n",
    "rating_average = merged_data.groupby('title')['rating'].mean()\n",
    "print(rating_average.sort_values(ascending=False).head(5))"
   ],
   "metadata": {
    "collapsed": false,
    "ExecuteTime": {
     "end_time": "2024-01-31T18:40:30.202400800Z",
     "start_time": "2024-01-31T18:40:29.944676300Z"
    }
   },
   "id": "99cd1b829fbcb9c8",
   "execution_count": 13
  },
  {
   "cell_type": "code",
   "outputs": [
    {
     "name": "stdout",
     "output_type": "stream",
     "text": [
      "El genero con mas revies es el de: genres\n",
      "Comedy    7196\n",
      "Name: rating, dtype: int64\n"
     ]
    }
   ],
   "source": [
    "#Cuál es el género con más revies?\n",
    "more_revies = merged_data.groupby('genres')['rating'].count()\n",
    "print(\"El genero con mas revies es el de:\",more_revies.sort_values(ascending=False).head(1))"
   ],
   "metadata": {
    "collapsed": false,
    "ExecuteTime": {
     "end_time": "2024-01-31T19:08:48.578013800Z",
     "start_time": "2024-01-31T19:08:48.557578500Z"
    }
   },
   "id": "b3c990f80c6414f9",
   "execution_count": 57
  },
  {
   "cell_type": "code",
   "outputs": [
    {
     "data": {
      "text/plain": "timestamp\n2000                Animation|Comedy|Drama|Fantasy\n2001                          Action|Drama|Western\n2002      Action|Adventure|Animation|Horror|Sci-Fi\n2003      Action|Adventure|Animation|Drama|Fantasy\n2004     Adventure|Children|Comedy|Fantasy|Musical\n2005                    Adventure|Animation|Comedy\n2006                    Action|Romance|War|Western\n2007    Adventure|Animation|Children|Comedy|Sci-Fi\n2008    Adventure|Animation|Children|Comedy|Sci-Fi\n2009     Action|Adventure|Mystery|Romance|Thriller\n2010                         Action|Comedy|Musical\nName: rating, dtype: object"
     },
     "execution_count": 105,
     "metadata": {},
     "output_type": "execute_result"
    }
   ],
   "source": [
    "# Cuáles es el género por año con mejor rating entre el año 2000 y 2010?\n",
    "mas_rating = merged_data[(merged_data['timestamp'].dt.year >= 2000) & (merged_data['timestamp'].dt.year <= 2010)]\n",
    "\n",
    "best_rating = mas_rating.groupby(['genres', mas_rating['timestamp'].dt.year])['rating'].mean()\n",
    "\n",
    "best_gener_year = best_rating.groupby(level=1).idxmax().str[0]\n",
    "\n",
    "best_gener_year"
   ],
   "metadata": {
    "collapsed": false,
    "ExecuteTime": {
     "end_time": "2024-01-31T19:31:19.100190300Z",
     "start_time": "2024-01-31T19:31:19.024320400Z"
    }
   },
   "id": "d716197eb099b900",
   "execution_count": 105
  },
  {
   "cell_type": "code",
   "outputs": [
    {
     "name": "stdout",
     "output_type": "stream",
     "text": [
      "El usuario con mas criticas fue el # userId\n",
      "414    2698\n",
      "Name: rating, dtype: int64 y su genero favortiro es Adventure|Animation|Children|Comedy|Fantasy\n"
     ]
    }
   ],
   "source": [
    "# Cuál es el usuario con más críticas y cuál es su género favorito?\n",
    "user_id = merged_data.groupby('userId')['rating'].count().sort_values(ascending=False).head(1)\n",
    "\n",
    "genero_favorito = merged_data[merged_data['userId'] == merged_data['userId'].value_counts().idxmax()]['genres'].values[0]\n",
    "\n",
    "print(f'El usuario con mas criticas fue el # {user_id} y su genero favortiro es {genero_favorito}')\n"
   ],
   "metadata": {
    "collapsed": false,
    "ExecuteTime": {
     "end_time": "2024-01-31T19:13:24.137718200Z",
     "start_time": "2024-01-31T19:13:24.126236Z"
    }
   },
   "id": "a3483d9bca2eb0f1",
   "execution_count": 66
  },
  {
   "cell_type": "code",
   "outputs": [
    {
     "name": "stdout",
     "output_type": "stream",
     "text": [
      "La pelicula con el rating mas antiguo es la de: Copycat (1995)\n"
     ]
    }
   ],
   "source": [
    "# ¿Cuál pelicula tiene el rating mas antiguo?\n",
    "\n",
    "pelicula_rating_mas_antiguo = merged_data.loc[merged_data['timestamp'].idxmin(), 'title']\n",
    "\n",
    "print(f'La pelicula con el rating mas antiguo es la de: {pelicula_rating_mas_antiguo}')"
   ],
   "metadata": {
    "collapsed": false,
    "ExecuteTime": {
     "end_time": "2024-01-31T19:58:40.175854400Z",
     "start_time": "2024-01-31T19:58:40.161302100Z"
    }
   },
   "id": "5a9b1737f0b07daf",
   "execution_count": 128
  },
  {
   "cell_type": "code",
   "outputs": [
    {
     "name": "stdout",
     "output_type": "stream",
     "text": [
      "La pelicula con el rating mas reciente es la de: Crumb (1994)\n"
     ]
    }
   ],
   "source": [
    "#¿Cuál es la película con el rating más reciente?\n",
    "pelicula_rating_mas_reciente = merged_data.loc[merged_data['timestamp'].idxmax(), 'title']\n",
    "\n",
    "print(f'La pelicula con el rating mas reciente es la de: {pelicula_rating_mas_reciente}')\n"
   ],
   "metadata": {
    "collapsed": false,
    "ExecuteTime": {
     "end_time": "2024-01-31T20:02:40.771909400Z",
     "start_time": "2024-01-31T20:02:40.741408800Z"
    }
   },
   "id": "e1452381f48efa7f",
   "execution_count": 133
  }
 ],
 "metadata": {
  "kernelspec": {
   "display_name": "Python 3",
   "language": "python",
   "name": "python3"
  },
  "language_info": {
   "codemirror_mode": {
    "name": "ipython",
    "version": 2
   },
   "file_extension": ".py",
   "mimetype": "text/x-python",
   "name": "python",
   "nbconvert_exporter": "python",
   "pygments_lexer": "ipython2",
   "version": "2.7.6"
  }
 },
 "nbformat": 4,
 "nbformat_minor": 5
}

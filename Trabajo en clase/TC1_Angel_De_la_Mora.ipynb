{
 "cells": [
  {
   "cell_type": "raw",
   "source": [
    "Cuáles fueron los géneros mejor rankeados en promedio en el año 2005?\n",
    "Cuál es el top 5 de películas mejor rankeadas en promedio?\n",
    "Cuál es el género con más revies?\n",
    "Cuáles es el género por año con mejor rating entre el año 2000 y 2010?\n",
    "Cuál es el usuario con más críticas y cuál es su género favorito?"
   ],
   "metadata": {
    "collapsed": false
   },
   "id": "b737006ecd13eca7"
  },
  {
   "cell_type": "code",
   "outputs": [],
   "source": [
    "import pandas as pd\n",
    "\n",
    "movies = pd.read_csv(\"../data/movies.csv\")\n",
    "#print(movies)\n",
    "\n",
    "ratings = pd.read_csv(\"../data/ratings.csv\")\n"
   ],
   "metadata": {
    "collapsed": false,
    "ExecuteTime": {
     "end_time": "2024-01-30T03:10:58.352774900Z",
     "start_time": "2024-01-30T03:10:58.036727300Z"
    }
   },
   "id": "bad4719ed6dcd5c5",
   "execution_count": 4
  },
  {
   "cell_type": "code",
   "outputs": [
    {
     "name": "stdout",
     "output_type": "stream",
     "text": [
      "genres\n",
      "Comedy|Crime|Drama|Horror                5.0\n",
      "Adventure|Comedy|Fantasy|Musical         5.0\n",
      "Animation|Children|Mystery               5.0\n",
      "Animation|Drama|Sci-Fi|IMAX              5.0\n",
      "Adventure|Drama|Fantasy|Horror|Sci-Fi    5.0\n",
      "Name: rating, dtype: float64\n"
     ]
    }
   ],
   "source": [
    "# ¿Cuáles fueron los géneros mejor rankeados en promedio en el año 2005?\n",
    "merged_data = pd.merge(movies, ratings, on='movieId')\n",
    "merged_data['timestamp'] = pd.to_datetime(merged_data['timestamp'], unit='s')\n",
    "rating_2005 = merged_data[\"timestamp\"].dt.year == 2005\n",
    "average_rating = merged_data.groupby('genres')['rating'].mean()\n",
    "print(average_rating.sort_values(ascending=False).head())"
   ],
   "metadata": {
    "collapsed": false,
    "ExecuteTime": {
     "end_time": "2024-01-30T03:41:54.764826400Z",
     "start_time": "2024-01-30T03:41:54.683926300Z"
    }
   },
   "id": "4dbfe6e2d64f0418",
   "execution_count": 48
  }
 ],
 "metadata": {
  "kernelspec": {
   "display_name": "Python 3",
   "language": "python",
   "name": "python3"
  },
  "language_info": {
   "codemirror_mode": {
    "name": "ipython",
    "version": 2
   },
   "file_extension": ".py",
   "mimetype": "text/x-python",
   "name": "python",
   "nbconvert_exporter": "python",
   "pygments_lexer": "ipython2",
   "version": "2.7.6"
  }
 },
 "nbformat": 4,
 "nbformat_minor": 5
}

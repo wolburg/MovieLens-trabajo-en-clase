{
 "cells": [
  {
   "cell_type": "raw",
   "source": [
    "Cuáles fueron los géneros mejor rankeados en promedio en el año 2005?\n",
    "Cuál es el top 5 de películas mejor rankeadas en promedio?\n",
    "Cuál es el género con más revies?\n",
    "Cuáles es el género por año con mejor rating entre el año 2000 y 2010?\n",
    "Cuál es el usuario con más críticas y cuál es su género favorito?"
   ],
   "metadata": {
    "collapsed": false
   },
   "id": "b737006ecd13eca7"
  },
  {
   "cell_type": "code",
   "outputs": [],
   "source": [
    "import pandas as pd\n",
    "\n",
    "movies = pd.read_csv(\"../data/movies.csv\")\n",
    "#print(movies)\n",
    "\n",
    "ratings = pd.read_csv(\"../data/ratings.csv\")\n"
   ],
   "metadata": {
    "collapsed": false,
    "ExecuteTime": {
     "end_time": "2024-01-30T03:10:58.352774900Z",
     "start_time": "2024-01-30T03:10:58.036727300Z"
    }
   },
   "id": "bad4719ed6dcd5c5",
   "execution_count": 4
  },
  {
   "cell_type": "code",
   "outputs": [],
   "source": [],
   "metadata": {
    "collapsed": false
   },
   "id": "4dbfe6e2d64f0418"
  }
 ],
 "metadata": {
  "kernelspec": {
   "display_name": "Python 3",
   "language": "python",
   "name": "python3"
  },
  "language_info": {
   "codemirror_mode": {
    "name": "ipython",
    "version": 2
   },
   "file_extension": ".py",
   "mimetype": "text/x-python",
   "name": "python",
   "nbconvert_exporter": "python",
   "pygments_lexer": "ipython2",
   "version": "2.7.6"
  }
 },
 "nbformat": 4,
 "nbformat_minor": 5
}
